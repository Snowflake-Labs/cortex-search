{
 "cells": [
  {
   "cell_type": "markdown",
   "id": "15a04599",
   "metadata": {},
   "source": [
    "# Querying a Cortex Search Service with the Python API\n",
    "This notebook shows a simple demo of querying a Cortex Search Service with the Python API.  \n",
    "The documentation for this query pattern can be [accessed here](https://docs.snowflake.com/LIMITEDACCESS/cortex-search/query-cortex-search-service).\n",
    "\n",
    "\n",
    "## Prerequisites\n",
    "To install the required packages in your python environment, run:  \n",
    "    ``pip install snowflake snowflake-snowpark-python``\n",
    "\n",
    "\n",
    "Note: Querying Cortex Search requires version 0.8.0 or later of the `snowflake` package."
   ]
  },
  {
   "cell_type": "code",
   "execution_count": null,
   "id": "8549cdb7-3b82-416b-b8d0-900732227212",
   "metadata": {},
   "outputs": [],
   "source": [
    "from snowflake.core import Root # snowflake >= 0.8.0\n",
    "from snowflake.snowpark.session import Session\n",
    "\n",
    "# Set connection parameters\n",
    "SNOWFLAKE_ACCOUNT = \"<ACCOUNT>\"\n",
    "SNOWFLAKE_USER = \"<USER>\"\n",
    "SNOWFLAKE_PASSWORD = \"<PASS>\"\n",
    "SNOWFLAKE_WAREHOUSE = \"<WH>\"\n",
    "\n",
    "CORTEX_SEARCH_DATABASE = \"<DB>\"\n",
    "CORTEX_SEARCH_SCHEMA = \"<SCHEMA>\"\n",
    "CORTEX_SEARCH_SERVICE = \"<SERVICE>\""
   ]
  },
  {
   "cell_type": "code",
   "execution_count": null,
   "id": "1ae0e607-a9aa-400e-8bb7-a9b6945cccaf",
   "metadata": {},
   "outputs": [],
   "source": [
    "def make_session():\n",
    "    \"\"\"\n",
    "    Create Snowpark Session from connection parameters\n",
    "    \"\"\"\n",
    "    connection_parameters = {\n",
    "        \"user\": SNOWFLAKE_USER,\n",
    "        \"password\": SNOWFLAKE_PASSWORD,\n",
    "        # \"authenticator\": \"externalbrowser\",\n",
    "        \"account\": SNOWFLAKE_ACCOUNT,\n",
    "        \"warehouse\": SNOWFLAKE_WAREHOUSE,\n",
    "        \"database\": CORTEX_SEARCH_DATABASE,\n",
    "        \"schema\": CORTEX_SEARCH_SCHEMA\n",
    "    }\n",
    "\n",
    "    return Session.builder.configs(connection_parameters).create()"
   ]
  },
  {
   "cell_type": "code",
   "execution_count": null,
   "id": "00202c33-97e0-4860-b34a-fe599d3948b2",
   "metadata": {},
   "outputs": [],
   "source": [
    "# make session and root objects\n",
    "session = make_session()\n",
    "root = Root(session)"
   ]
  },
  {
   "cell_type": "code",
   "execution_count": null,
   "id": "65286440",
   "metadata": {},
   "outputs": [],
   "source": [
    "def query_cortex_search_service(svc, query, columns=[], _filter = {}, limit=5):\n",
    "    \"\"\"\n",
    "    Query the specified Cortex Search service with the specified query string and search parameters.\n",
    "    \"\"\"\n",
    "    db, schema = session.get_current_database(), session.get_current_schema()\n",
    "    \n",
    "    cortex_search_service = (\n",
    "        root\n",
    "        .databases[db]\n",
    "        .schemas[schema]\n",
    "        .cortex_search_services[svc]\n",
    "    )\n",
    "    \n",
    "    response = cortex_search_service.search(\n",
    "        query,\n",
    "        columns=columns,\n",
    "        filter=_filter,\n",
    "        limit=limit\n",
    "    )\n",
    "\n",
    "    return response.results"
   ]
  },
  {
   "cell_type": "code",
   "execution_count": null,
   "id": "c2bb1d8d",
   "metadata": {},
   "outputs": [],
   "source": [
    "# query the service\n",
    "print(query_cortex_search_service(svc=CORTEX_SEARCH_SERVICE, query=\"foo bar\"))"
   ]
  }
 ],
 "metadata": {
  "kernelspec": {
   "display_name": "cs-quickstart",
   "language": "python",
   "name": "python3"
  },
  "language_info": {
   "codemirror_mode": {
    "name": "ipython",
    "version": 3
   },
   "file_extension": ".py",
   "mimetype": "text/x-python",
   "name": "python",
   "nbconvert_exporter": "python",
   "pygments_lexer": "ipython3",
   "version": "3.11.4"
  }
 },
 "nbformat": 4,
 "nbformat_minor": 5
}
