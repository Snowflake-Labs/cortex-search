{
 "cells": [
  {
   "cell_type": "code",
   "execution_count": 1,
   "id": "7b3e0c9f-539c-4684-af76-35c7ef55de39",
   "metadata": {
    "scrolled": true
   },
   "outputs": [],
   "source": [
    "import pandas as pd\n",
    "from collections import defaultdict"
   ]
  },
  {
   "cell_type": "code",
   "execution_count": 2,
   "id": "5822d193-7cd5-4360-a809-dca5109e4332",
   "metadata": {},
   "outputs": [
    {
     "name": "stdout",
     "output_type": "stream",
     "text": [
      "query: plantar fasciiti brace with ball\n",
      "mainterm: plantar fasciiti brace\n",
      "\n",
      "query: refill ink kit for printer\n",
      "mainterm: refill ink kit\n",
      "\n",
      "query: key fob cover for 4 runner\n",
      "mainterm: key fob cover\n",
      "\n",
      "query: phone cover for iphone 8 plus\n",
      "mainterm: phone cover\n",
      "\n",
      "query: wireless game controller for ipad\n",
      "mainterm: wireless game controller\n",
      "\n",
      "query: replacement cushion for headphone\n",
      "mainterm: replacement cushion\n",
      "\n"
     ]
    }
   ],
   "source": [
    "# 1. Load TREC24 product search dataset with QUERY field\n",
    "goldens_df = pd.read_parquet(\"/notebook/trec24_golden.parquet\")\n",
    "\n",
    "# 2. Extract mainterm from QUERY field using simple heuristic\n",
    "#   - If the query contains a signal word (e.g., \"for\", \"with\", \"without\"), the mainterm is the substring before the signal word\n",
    "query_to_mainterm = defaultdict(dict)\n",
    "supplemental_signals = {'for', 'with', 'without'}\n",
    "\n",
    "for i in range(goldens_df.shape[0]):\n",
    "    query_id = str(goldens_df.QUERY_ID[i])\n",
    "    query = str(goldens_df.QUERY[i])\n",
    "    tokens = query.split()\n",
    "    mainterm = None\n",
    "    for i, t in enumerate(tokens):\n",
    "        if t.lower().strip(',').strip('.') in supplemental_signals:\n",
    "            mainterm = ' '.join(tokens[:i])\n",
    "            break\n",
    "    query_to_mainterm[query_id][\"query\"] = query\n",
    "    query_to_mainterm[query_id][\"mainterm\"] = mainterm\n",
    "\n",
    "# 3. Add SOFTBOOST field to goldens_df for Cortex Search\n",
    "goldens_df[\"SOFTBOOST\"] = goldens_df.QUERY_ID.apply(\n",
    "    lambda query_id: (\n",
    "        [{\"phrase\": query_to_mainterm[str(query_id)][\"mainterm\"]}]\n",
    "        if query_to_mainterm[str(query_id)][\"mainterm\"] else []\n",
    "    )\n",
    ")\n",
    "\n",
    "# 4. Sanity check with a few sample values.\n",
    "for i, data in enumerate(query_to_mainterm.values()):\n",
    "    if i < 20 and data[\"mainterm\"]:\n",
    "        print('query: ' + data[\"query\"])\n",
    "        print('mainterm: ' + data[\"mainterm\"])\n",
    "        print()"
   ]
  },
  {
   "cell_type": "code",
   "execution_count": null,
   "id": "2a865604",
   "metadata": {},
   "outputs": [],
   "source": []
  }
 ],
 "metadata": {
  "kernelspec": {
   "display_name": ".venv",
   "language": "python",
   "name": "python3"
  },
  "language_info": {
   "codemirror_mode": {
    "name": "ipython",
    "version": 3
   },
   "file_extension": ".py",
   "mimetype": "text/x-python",
   "name": "python",
   "nbconvert_exporter": "python",
   "pygments_lexer": "ipython3",
   "version": "3.13.1"
  }
 },
 "nbformat": 4,
 "nbformat_minor": 5
}
