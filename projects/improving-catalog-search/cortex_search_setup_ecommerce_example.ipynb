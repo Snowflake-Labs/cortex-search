{
 "cells": [
  {
   "cell_type": "code",
   "execution_count": null,
   "metadata": {},
   "outputs": [],
   "source": [
    "# Import python packages\n",
    "from snowflake.snowpark import Session\n",
    "from snowflake.core import Root\n",
    "import pandas as pd\n",
    "\n",
    "connection_parameters = {\n",
    "    \"account\": \"your_account_name\",\n",
    "    \"user\": \"your_username\",\n",
    "    \"host\": \"your_host\",\n",
    "    \"password\": \"your_password\",\n",
    "    \"role\": \"your_role\",\n",
    "    \"warehouse\": \"your_warehouse\",\n",
    "    \"database\": \"your_database\",\n",
    "    \"schema\": \"your_schema\"\n",
    "}\n",
    "\n",
    "session = Session.builder.configs(connection_parameters).create()\n",
    "root = Root(session)"
   ]
  },
  {
   "cell_type": "markdown",
   "metadata": {},
   "source": [
    "We will first download the wands data"
   ]
  },
  {
   "cell_type": "code",
   "execution_count": null,
   "metadata": {},
   "outputs": [],
   "source": [
    "! git clone https://github.com/wayfair/WANDS.git # Clone the WANDS repository"
   ]
  },
  {
   "cell_type": "markdown",
   "metadata": {},
   "source": [
    "Before creating the cortex search service. We need to create a text column which has all the information we want to search upon. Hence we will create a text column with all the columns."
   ]
  },
  {
   "cell_type": "code",
   "execution_count": null,
   "metadata": {},
   "outputs": [],
   "source": [
    "# parsing product features\n",
    "def get_features(product_features: str):\n",
    "    features = \"\"\n",
    "    if product_features:\n",
    "        for feature in product_features.split(\"|\"):\n",
    "            pair = feature.split(\":\")\n",
    "            if len(pair) >= 2 and pair[0] and pair[1]:\n",
    "                key = pair[0].strip()\n",
    "                value = pair[1].strip()\n",
    "                features += f\"{key}: {value} \"\n",
    "    return features\n",
    "\n",
    "# Function to create a single text column from multiple columns\n",
    "# this will be used to create the text column for the search index\n",
    "def wands_text(row):\n",
    "    text = \"\"\n",
    "    if row[\"product_name\"]:\n",
    "        text += f\"Name: {str(row['product_name']).strip()} \"\n",
    "    if row[\"product_class\"]:\n",
    "        text += f\"Class: {str(row['product_class']).strip()} \"\n",
    "    if row[\"product_description\"]:\n",
    "        text += f\"Description: {str(row['product_description']).strip()} \"\n",
    "    if row[\"category hierarchy\"]:\n",
    "        text += f\"Hierarchy: {str(row['category hierarchy']).strip()} \"\n",
    "    if row[\"features\"]:\n",
    "        text += row['features']\n",
    "    return text\n",
    "\n",
    "\n",
    "product_df = pd.read_csv(\"WANDS/dataset/product.csv\", sep=\"\\t\")\n",
    "product_df[\"features\"] = product_df[\"product_features\"].apply(get_features)\n",
    "product_df[\"TEXT\"] = product_df.apply(wands_text, axis=1)\n",
    "upload_df = product_df.rename(\n",
    "    columns={\n",
    "        \"product_id\": \"ID\",\n",
    "        \"product_name\": \"NAME\",\n",
    "        \"product_class\": \"CLASS\",\n",
    "        \"rating_count\": \"RATING_COUNT\",\n",
    "        \"average_rating\": \"RATING\",\n",
    "        \"review_count\": \"REVIEW_COUNT\",\n",
    "    }\n",
    ")\n",
    "upload_df = upload_df[\n",
    "    [\n",
    "        \"ID\",\n",
    "        \"NAME\",\n",
    "        \"CLASS\",\n",
    "        \"RATING_COUNT\",\n",
    "        \"RATING\",\n",
    "        \"REVIEW_COUNT\",\n",
    "        \"TEXT\",\n",
    "    ]\n",
    "]"
   ]
  },
  {
   "cell_type": "markdown",
   "metadata": {},
   "source": [
    "Now we can upload the data to snowflake and create a cortex search service"
   ]
  },
  {
   "cell_type": "code",
   "execution_count": null,
   "metadata": {},
   "outputs": [],
   "source": [
    "session.write_pandas(\n",
    "    df=upload_df,\n",
    "    table_name=\"WANDS_PRODUCT_DATASET\",\n",
    "    schema=\"DATASETS\",\n",
    "    database=\"CORTEX_SEARCH_DB\",\n",
    "    overwrite=True,\n",
    "    auto_create_table=True,\n",
    ")\n",
    "\n",
    "session.sql(\"\"\"CREATE OR REPLACE CORTEX SEARCH SERVICE CORTEX_SEARCH_DB.SERVICES.WANDS\n",
    "ON TEXT\n",
    "ATTRIBUTES CLASS \n",
    "WAREHOUSE = WH_TEST\n",
    "TARGET_LAG = '60 minute'\n",
    "AS (\n",
    "    SELECT\n",
    "        TEXT, ID, CLASS, RATING_COUNT, RATING, REVIEW_COUNT\n",
    "    FROM CORTEX_SEARCH_DB.DATASETS.WANDS_PRODUCT_DATASET\n",
    ")\"\"\").collect()"
   ]
  },
  {
   "cell_type": "markdown",
   "metadata": {},
   "source": [
    "Now we can query the service"
   ]
  },
  {
   "cell_type": "code",
   "execution_count": null,
   "metadata": {},
   "outputs": [],
   "source": [
    "# fetch service\n",
    "my_service = (root\n",
    "  .databases[\"CORTEX_SEARCH_DB\"]\n",
    "  .schemas[\"SERVICES\"]\n",
    "  .cortex_search_services[\"WANDS\"]\n",
    ")\n",
    "\n",
    "my_service.search(\n",
    "    query=\"hulmeville writing desk with hutch\",\n",
    "    experimental={\n",
    "        \"softBoosts\": [\n",
    "            {\"phrase\": \"Furniture, Office Furniture, Desks\"}\n",
    "        ]\n",
    "    }\n",
    ")"
   ]
  },
  {
   "cell_type": "code",
   "execution_count": null,
   "metadata": {},
   "outputs": [],
   "source": []
  }
 ],
 "metadata": {
  "kernelspec": {
   "display_name": ".venv",
   "language": "python",
   "name": "python3"
  },
  "language_info": {
   "codemirror_mode": {
    "name": "ipython",
    "version": 3
   },
   "file_extension": ".py",
   "mimetype": "text/x-python",
   "name": "python",
   "nbconvert_exporter": "python",
   "pygments_lexer": "ipython3",
   "version": "3.11.7"
  }
 },
 "nbformat": 4,
 "nbformat_minor": 2
}
