{
 "cells": [
  {
   "cell_type": "code",
   "execution_count": null,
   "metadata": {},
   "outputs": [],
   "source": [
    "# Import python packages\n",
    "from snowflake.snowpark import Session\n",
    "from snowflake.core import Root\n",
    "import pandas as pd\n",
    "\n",
    "connection_parameters = {\n",
    "    \"account\": \"your_account_name\",\n",
    "    \"user\": \"your_username\",\n",
    "    \"host\": \"your_host\",\n",
    "    \"password\": \"your_password\",\n",
    "    \"role\": \"your_role\",\n",
    "    \"warehouse\": \"your_warehouse\",\n",
    "    \"database\": \"your_database\",\n",
    "    \"schema\": \"your_schema\"\n",
    "}\n",
    "\n",
    "session = Session.builder.configs(connection_parameters).create()\n",
    "root = Root(session)"
   ]
  },
  {
   "cell_type": "markdown",
   "metadata": {},
   "source": [
    "We will first download the wands data"
   ]
  },
  {
   "cell_type": "code",
   "execution_count": null,
   "metadata": {},
   "outputs": [],
   "source": [
    "! git clone https://github.com/wayfair/WANDS.git # Clone the WANDS repository"
   ]
  },
  {
   "cell_type": "markdown",
   "metadata": {},
   "source": [
    "Before creating the cortex search service. We need to create a text column which has all the information we want to search upon. Hence we will create a text column with all the columns."
   ]
  },
  {
   "cell_type": "code",
   "execution_count": null,
   "metadata": {},
   "outputs": [],
   "source": [
    "# parsing product features\n",
    "def get_features(product_features: str):\n",
    "    features = \"\"\n",
    "    if product_features:\n",
    "        for feature in product_features.split(\"|\"):\n",
    "            pair = feature.split(\":\")\n",
    "            if len(pair) >= 2 and pair[0] and pair[1]:\n",
    "                key = pair[0].strip()\n",
    "                value = pair[1].strip()\n",
    "                features += f\"{key}: {value} \"\n",
    "    return features\n",
    "\n",
    "# Function to create a single text column from multiple columns\n",
    "# this will be used to create the text column for the search index\n",
    "def wands_text(row):\n",
    "    text = \"\"\n",
    "    if row[\"product_name\"]:\n",
    "        text += f\"Name: {str(row['product_name']).strip()} \"\n",
    "    if row[\"product_class\"]:\n",
    "        text += f\"Class: {str(row['product_class']).strip()} \"\n",
    "    if row[\"product_description\"]:\n",
    "        text += f\"Description: {str(row['product_description']).strip()} \"\n",
    "    if row[\"category hierarchy\"]:\n",
    "        text += f\"Hierarchy: {str(row['category hierarchy']).strip()} \"\n",
    "    if row[\"features\"]:\n",
    "        text += row['features']\n",
    "    return text\n",
    "\n",
    "\n",
    "product_df = pd.read_csv(\"WANDS/dataset/product.csv\", sep=\"\\t\")\n",
    "product_df[\"features\"] = product_df[\"product_features\"].apply(get_features)\n",
    "product_df[\"TEXT\"] = product_df.apply(wands_text, axis=1)\n",
    "upload_df = product_df.rename(\n",
    "    columns={\n",
    "        \"product_id\": \"ID\",\n",
    "        \"product_name\": \"NAME\",\n",
    "        \"product_class\": \"CLASS\",\n",
    "        \"rating_count\": \"RATING_COUNT\",\n",
    "        \"average_rating\": \"RATING\",\n",
    "        \"review_count\": \"REVIEW_COUNT\",\n",
    "    }\n",
    ")\n",
    "upload_df = upload_df[\n",
    "    [\n",
    "        \"ID\",\n",
    "        \"NAME\",\n",
    "        \"CLASS\",\n",
    "        \"RATING_COUNT\",\n",
    "        \"RATING\",\n",
    "        \"REVIEW_COUNT\",\n",
    "        \"TEXT\",\n",
    "    ]\n",
    "]"
   ]
  },
  {
   "cell_type": "markdown",
   "metadata": {},
   "source": [
    "Now we can upload the data to snowflake and create a cortex search service"
   ]
  },
  {
   "cell_type": "code",
   "execution_count": null,
   "metadata": {},
   "outputs": [],
   "source": [
    "session.write_pandas(\n",
    "    df=upload_df,\n",
    "    table_name=\"WANDS_PRODUCT_DATASET\",\n",
    "    schema=\"DATASETS\",\n",
    "    database=\"CORTEX_SEARCH_DB\",\n",
    "    overwrite=True,\n",
    "    auto_create_table=True,\n",
    ")\n",
    "\n",
    "session.sql(\"\"\"CREATE OR REPLACE CORTEX SEARCH SERVICE CORTEX_SEARCH_DB.SERVICES.WANDS\n",
    "ON TEXT\n",
    "ATTRIBUTES CLASS \n",
    "WAREHOUSE = WH_TEST\n",
    "TARGET_LAG = '60 minute'\n",
    "AS (\n",
    "    SELECT\n",
    "        TEXT, ID, CLASS, RATING_COUNT, RATING, REVIEW_COUNT\n",
    "    FROM CORTEX_SEARCH_DB.DATASETS.WANDS_PRODUCT_DATASET\n",
    ")\"\"\").collect()"
   ]
  },
  {
   "cell_type": "markdown",
   "metadata": {},
   "source": [
    "Now we can query the service"
   ]
  },
  {
   "cell_type": "code",
   "execution_count": null,
   "metadata": {},
   "outputs": [
    {
     "ename": "TypeError",
     "evalue": "CortexSearchServiceResource.search() got an unexpected keyword argument 'experimental'",
     "output_type": "error",
     "traceback": [
      "\u001b[0;31m---------------------------------------------------------------------------\u001b[0m",
      "\u001b[0;31mTypeError\u001b[0m                                 Traceback (most recent call last)",
      "Cell \u001b[0;32mIn[3], line 11\u001b[0m\n\u001b[1;32m      4\u001b[0m \u001b[38;5;66;03m# fetch service\u001b[39;00m\n\u001b[1;32m      5\u001b[0m my_service \u001b[38;5;241m=\u001b[39m (root\n\u001b[1;32m      6\u001b[0m   \u001b[38;5;241m.\u001b[39mdatabases[\u001b[38;5;124m\"\u001b[39m\u001b[38;5;124mCORTEX_SEARCH_DB\u001b[39m\u001b[38;5;124m\"\u001b[39m]\n\u001b[1;32m      7\u001b[0m   \u001b[38;5;241m.\u001b[39mschemas[\u001b[38;5;124m\"\u001b[39m\u001b[38;5;124mSERVICES\u001b[39m\u001b[38;5;124m\"\u001b[39m]\n\u001b[1;32m      8\u001b[0m   \u001b[38;5;241m.\u001b[39mcortex_search_services[\u001b[38;5;124m\"\u001b[39m\u001b[38;5;124mWANDS\u001b[39m\u001b[38;5;124m\"\u001b[39m]\n\u001b[1;32m      9\u001b[0m )\n\u001b[0;32m---> 11\u001b[0m \u001b[43mmy_service\u001b[49m\u001b[38;5;241;43m.\u001b[39;49m\u001b[43msearch\u001b[49m\u001b[43m(\u001b[49m\n\u001b[1;32m     12\u001b[0m \u001b[43m    \u001b[49m\u001b[43mquery\u001b[49m\u001b[38;5;241;43m=\u001b[39;49m\u001b[38;5;124;43m\"\u001b[39;49m\u001b[38;5;124;43mhulmeville writing desk with hutch\u001b[39;49m\u001b[38;5;124;43m\"\u001b[39;49m\u001b[43m,\u001b[49m\n\u001b[1;32m     13\u001b[0m \u001b[43m    \u001b[49m\u001b[43mexperimental\u001b[49m\u001b[38;5;241;43m=\u001b[39;49m\u001b[43m{\u001b[49m\n\u001b[1;32m     14\u001b[0m \u001b[43m        \u001b[49m\u001b[38;5;124;43m\"\u001b[39;49m\u001b[38;5;124;43msoftBoosts\u001b[39;49m\u001b[38;5;124;43m\"\u001b[39;49m\u001b[43m:\u001b[49m\u001b[43m \u001b[49m\u001b[43m[\u001b[49m\n\u001b[1;32m     15\u001b[0m \u001b[43m            \u001b[49m\u001b[43m{\u001b[49m\u001b[38;5;124;43m\"\u001b[39;49m\u001b[38;5;124;43mphrase\u001b[39;49m\u001b[38;5;124;43m\"\u001b[39;49m\u001b[43m:\u001b[49m\u001b[43m \u001b[49m\u001b[38;5;124;43m\"\u001b[39;49m\u001b[38;5;124;43mFurniture, Office Furniture, Desks\u001b[39;49m\u001b[38;5;124;43m\"\u001b[39;49m\u001b[43m}\u001b[49m\n\u001b[1;32m     16\u001b[0m \u001b[43m        \u001b[49m\u001b[43m]\u001b[49m\n\u001b[1;32m     17\u001b[0m \u001b[43m    \u001b[49m\u001b[43m}\u001b[49m\n\u001b[1;32m     18\u001b[0m \u001b[43m)\u001b[49m\n",
      "File \u001b[0;32m~/experiments/exp1/cortex/cortexsearch/chat/.venv/lib/python3.11/site-packages/snowflake/core/_internal/telemetry.py:112\u001b[0m, in \u001b[0;36mapi_telemetry.<locals>.wrap\u001b[0;34m(self, *args, **kwargs)\u001b[0m\n\u001b[1;32m    106\u001b[0m     api\u001b[38;5;241m.\u001b[39mapi_client  \u001b[38;5;66;03m# noqa: B018\u001b[39;00m\n\u001b[1;32m    107\u001b[0m telemetry_client\u001b[38;5;241m.\u001b[39msend_api_telemetry(\n\u001b[1;32m    108\u001b[0m     class_name\u001b[38;5;241m=\u001b[39m\u001b[38;5;28mself\u001b[39m\u001b[38;5;241m.\u001b[39m\u001b[38;5;18m__class__\u001b[39m\u001b[38;5;241m.\u001b[39m\u001b[38;5;18m__name__\u001b[39m,\n\u001b[1;32m    109\u001b[0m     func_name\u001b[38;5;241m=\u001b[39mfunc\u001b[38;5;241m.\u001b[39m\u001b[38;5;18m__name__\u001b[39m,\n\u001b[1;32m    110\u001b[0m     client_name\u001b[38;5;241m=\u001b[39mapi\u001b[38;5;241m.\u001b[39m_chosen_client_type\u001b[38;5;241m.\u001b[39mname \u001b[38;5;28;01mif\u001b[39;00m api \u001b[38;5;129;01mis\u001b[39;00m \u001b[38;5;129;01mnot\u001b[39;00m \u001b[38;5;28;01mNone\u001b[39;00m \u001b[38;5;28;01melse\u001b[39;00m \u001b[38;5;28;01mNone\u001b[39;00m,\n\u001b[1;32m    111\u001b[0m )\n\u001b[0;32m--> 112\u001b[0m r \u001b[38;5;241m=\u001b[39m \u001b[43mfunc\u001b[49m\u001b[43m(\u001b[49m\u001b[38;5;28;43mself\u001b[39;49m\u001b[43m,\u001b[49m\u001b[43m \u001b[49m\u001b[38;5;241;43m*\u001b[39;49m\u001b[43margs\u001b[49m\u001b[43m,\u001b[49m\u001b[43m \u001b[49m\u001b[38;5;241;43m*\u001b[39;49m\u001b[38;5;241;43m*\u001b[39;49m\u001b[43mkwargs\u001b[49m\u001b[43m)\u001b[49m\n\u001b[1;32m    113\u001b[0m \u001b[38;5;28;01mreturn\u001b[39;00m r\n",
      "\u001b[0;31mTypeError\u001b[0m: CortexSearchServiceResource.search() got an unexpected keyword argument 'experimental'"
     ]
    }
   ],
   "source": [
    "# fetch service\n",
    "my_service = (root\n",
    "  .databases[\"CORTEX_SEARCH_DB\"]\n",
    "  .schemas[\"SERVICES\"]\n",
    "  .cortex_search_services[\"WANDS\"]\n",
    ")\n",
    "\n",
    "my_service.search(\n",
    "    query=\"hulmeville writing desk with hutch\",\n",
    "    experimental={\n",
    "        \"softBoosts\": [\n",
    "            {\"phrase\": \"Furniture, Office Furniture, Desks\"}\n",
    "        ]\n",
    "    }\n",
    ")"
   ]
  },
  {
   "cell_type": "code",
   "execution_count": null,
   "metadata": {},
   "outputs": [],
   "source": []
  }
 ],
 "metadata": {
  "kernelspec": {
   "display_name": ".venv",
   "language": "python",
   "name": "python3"
  },
  "language_info": {
   "codemirror_mode": {
    "name": "ipython",
    "version": 3
   },
   "file_extension": ".py",
   "mimetype": "text/x-python",
   "name": "python",
   "nbconvert_exporter": "python",
   "pygments_lexer": "ipython3",
   "version": "3.11.7"
  }
 },
 "nbformat": 4,
 "nbformat_minor": 2
}
